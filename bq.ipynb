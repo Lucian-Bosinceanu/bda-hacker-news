{
 "cells": [
  {
   "cell_type": "code",
   "execution_count": 13,
   "metadata": {},
   "outputs": [],
   "source": [
    "from google.cloud import bigquery\n",
    "import json"
   ]
  },
  {
   "cell_type": "code",
   "execution_count": 14,
   "metadata": {},
   "outputs": [],
   "source": [
    "import os\n",
    "os.environ[\"GOOGLE_APPLICATION_CREDENTIALS\"]=\"gcp_api_keys.json\""
   ]
  },
  {
   "cell_type": "code",
   "execution_count": 15,
   "metadata": {},
   "outputs": [
    {
     "name": "stdout",
     "output_type": "stream",
     "text": [
      "[]\n"
     ]
    }
   ],
   "source": [
    "def verify_auth():\n",
    "    from google.cloud import storage\n",
    "\n",
    "    # If you don't specify credentials when constructing the client, the\n",
    "    # client library will look for credentials in the environment.\n",
    "    storage_client = storage.Client()\n",
    "\n",
    "    # Make an authenticated API request\n",
    "    buckets = list(storage_client.list_buckets())\n",
    "    return buckets\n",
    "\n",
    "print(verify_auth())"
   ]
  },
  {
   "cell_type": "code",
   "execution_count": 61,
   "metadata": {},
   "outputs": [
    {
     "name": "stdout",
     "output_type": "stream",
     "text": [
      "starting to write data from QueryJob<project=famous-mission-334512, location=US, id=60346a03-03dd-4744-82b4-2be660e54514>\n",
      "Wrote 1\n",
      "Wrote 1001\n",
      "Wrote 2001\n",
      "Wrote 3001\n",
      "Wrote 4001\n",
      "Wrote 5001\n",
      "Wrote 6001\n",
      "Wrote 7001\n",
      "Wrote 8001\n",
      "Wrote 9001\n",
      "Wrote 10001\n",
      "Wrote 11001\n"
     ]
    }
   ],
   "source": [
    "client = bigquery.Client()\n",
    "\n",
    "query = \"\"\"\n",
    "    SELECT *\n",
    "    FROM `fh-bigquery.hackernews.stories`\n",
    "    LIMIT 20\n",
    "\"\"\"\n",
    "\n",
    "query = \"\"\"\n",
    "    SELECT *\n",
    "    FROM fh-bigquery.hackernews.stories\n",
    "    WHERE\n",
    "        DEAD IS NOT true\n",
    "        AND TITLE != \"None\"\n",
    "    LIMIT 1000\n",
    "\"\"\"\n",
    "\n",
    "query = \"\"\"\n",
    "    SELECT *\n",
    "    FROM fh-bigquery.hackernews.stories s\n",
    "    TABLESAMPLE SYSTEM (1 PERCENT)\n",
    "    WHERE\n",
    "        s.DEAD IS NOT true\n",
    "        AND s.TITLE != \"None\"\n",
    "        AND NOT (s.url = \"NONE\" AND s.text = \"None\")\n",
    "        AND rand() < 0.1\n",
    "\"\"\"\n",
    "\n",
    "query_join = \"\"\"\n",
    "    SELECT *\n",
    "    FROM\n",
    "        fh-bigquery.hackernews.stories s,\n",
    "        fh-bigquery.hackernews.comments c\n",
    "    TABLESAMPLE SYSTEM (5 PERCENT)\n",
    "    WHERE\n",
    "        c.parent = s.id\n",
    "        AND s.DEAD IS NOT true\n",
    "        AND s.TITLE != \"None\"\n",
    "        AND NOT (s.url = \"NONE\" AND s.text = \"None\")\n",
    "        \n",
    "        AND c.DEAD IS NOT true\n",
    "        AND c.text != \"None\"\n",
    "\n",
    "        AND rand() < 0.1\n",
    "\"\"\"\n",
    "\n",
    "query_join_2 = \"\"\"\n",
    "    SELECT \"story\" as type, s.id, s.by, s.score, s.time, s.time_ts, s.title, s.url, s.text, null as parent, s.deleted, s.dead, s.descendants, s.author\n",
    "    FROM fh-bigquery.hackernews.stories s\n",
    "    WHERE\n",
    "        s.DEAD IS NOT true\n",
    "        AND s.TITLE != \"None\"\n",
    "        AND NOT (s.url = \"NONE\" AND s.text = \"None\")\n",
    "        AND rand() < 0.1\n",
    "        \n",
    "    UNION ALL\n",
    "    \n",
    "    SELECT \"comment\" as type, c.id, c.by, c.ranking, c.time, null as time_ts, null as title, null as url, c.text, c.parent, c.deleted, c.dead, null as descendants, c.author\n",
    "    FROM fh-bigquery.hackernews.comments c\n",
    "    TABLESAMPLE SYSTEM (5 PERCENT)\n",
    "    WHERE\n",
    "        c.DEAD IS NOT true\n",
    "        AND c.text != \"None\"\n",
    "        \n",
    "        AND c.parent in (\n",
    "            SELECT id FROM fh-bigquery.hackernews.stories s2\n",
    "            WHERE\n",
    "                s2.DEAD IS NOT true\n",
    "                AND s2.TITLE != \"None\"\n",
    "                AND NOT (s2.url = \"NONE\" AND s2.text = \"None\")\n",
    "                AND rand() < 0.1\n",
    "        )\n",
    "\n",
    "        AND rand() < 0.1\n",
    "\"\"\"\n",
    "\n",
    "query_join_3 = \"\"\"\n",
    "    WITH Stories AS\n",
    "    (\n",
    "        SELECT \"story\" as type, s.id, s.by, s.score, s.time, s.time_ts, s.title, s.url, s.text, null as parent, s.deleted, s.dead, s.descendants, s.author\n",
    "        FROM fh-bigquery.hackernews.stories s\n",
    "        WHERE\n",
    "            s.DEAD IS NOT true\n",
    "            AND s.TITLE != \"None\"\n",
    "            AND NOT (s.url = \"NONE\" AND s.text = \"None\")\n",
    "            AND rand() < 0.1\n",
    "    )\n",
    "    SELECT * from Stories\n",
    "    \n",
    "    UNION ALL\n",
    "    \n",
    "    SELECT \"comment\" as type, c.id, c.by, c.ranking, c.time, null as time_ts, null as title, null as url, c.text, c.parent, c.deleted, c.dead, null as descendants, c.author\n",
    "    FROM fh-bigquery.hackernews.comments c\n",
    "    TABLESAMPLE SYSTEM (1 PERCENT)\n",
    "    WHERE\n",
    "        c.DEAD IS NOT true\n",
    "        AND c.text != \"None\"\n",
    "        \n",
    "        AND c.parent in (SELECT id FROM Stories)\n",
    "\n",
    "        AND rand() < 0.1\n",
    "\"\"\"\n",
    "\n",
    "query_job = client.query(query_join) # Make an API request.\n",
    "\n",
    "# print(\"The query data:\")\n",
    "# for row in query_job:\n",
    "#     print(row)\n",
    "    \n",
    "json_obj = []\n",
    "print(\"starting to write data from\", query_job)\n",
    "with open(\"small_data_random.txt\", \"w\") as f:\n",
    "    for index, row in enumerate(query_job):\n",
    "        row_dict = dict(row)\n",
    "        del row_dict['time_ts']\n",
    "        if 'time_ts_1' in row_dict:\n",
    "            del row_dict['time_ts_1']\n",
    "        f.write(json.dumps(row_dict))\n",
    "        f.write(\"\\n\")\n",
    "        if index % 1000 == 0:\n",
    "            print(\"Wrote\", index + 1)"
   ]
  },
  {
   "cell_type": "code",
   "execution_count": 39,
   "metadata": {},
   "outputs": [],
   "source": [
    "from pyspark import SparkConf, SparkContext\n",
    "from collections import defaultdict\n",
    "import numpy as np\n",
    "import json\n",
    "import datetime"
   ]
  },
  {
   "cell_type": "code",
   "execution_count": 35,
   "metadata": {},
   "outputs": [],
   "source": [
    "# import findspark\n",
    "# os.unsetenv(\"SPARK_HOME\")\n",
    "# # os.environ['SPARK_HOME'] = \"/Users/sergiuiacob/.pyenv/shims/pyspark\"\n",
    "# findspark.init()"
   ]
  },
  {
   "cell_type": "code",
   "execution_count": 36,
   "metadata": {},
   "outputs": [
    {
     "name": "stdout",
     "output_type": "stream",
     "text": [
      "javac 9.0.4\r\n"
     ]
    }
   ],
   "source": [
    "! javac -version\n",
    "\n",
    "# MUST ONLY BE RUN ONCE\n",
    "if 'sc' not in locals():\n",
    "    conf = SparkConf().setMaster(\"local\").setAppName(\"BDA Hacker News\")\n",
    "    sc = SparkContext(conf = conf)"
   ]
  },
  {
   "cell_type": "code",
   "execution_count": 75,
   "metadata": {},
   "outputs": [],
   "source": [
    "myRDD = sc.textFile(\"small_data_random.txt\").map(json.loads)"
   ]
  },
  {
   "cell_type": "code",
   "execution_count": 76,
   "metadata": {},
   "outputs": [
    {
     "data": {
      "text/plain": [
       "[{'id': 1033400,\n",
       "  'by': 'kogir',\n",
       "  'score': 0,\n",
       "  'time': 1401561740,\n",
       "  'title': 'Placeholder',\n",
       "  'url': '',\n",
       "  'text': 'Mind the gap.',\n",
       "  'deleted': None,\n",
       "  'dead': None,\n",
       "  'descendants': 0,\n",
       "  'author': 'kogir'}]"
      ]
     },
     "execution_count": 76,
     "metadata": {},
     "output_type": "execute_result"
    }
   ],
   "source": [
    "myRDD.take(1)"
   ]
  },
  {
   "cell_type": "code",
   "execution_count": 89,
   "metadata": {},
   "outputs": [],
   "source": [
    "mapRes = myRDD.map(lambda row: (datetime.datetime.fromtimestamp(row['time']).hour, row['score']))"
   ]
  },
  {
   "cell_type": "code",
   "execution_count": 90,
   "metadata": {},
   "outputs": [],
   "source": [
    "redResult = mapRes.groupByKey().mapValues(lambda vals: np.mean(list(vals)))"
   ]
  },
  {
   "cell_type": "code",
   "execution_count": 99,
   "metadata": {},
   "outputs": [
    {
     "data": {
      "text/plain": [
       "[(5, 20.413857677902623),\n",
       " (18, 16.154589371980677),\n",
       " (20, 14.377813504823152),\n",
       " (3, 14.182724252491694),\n",
       " (4, 13.770833333333334),\n",
       " (6, 13.686475409836065),\n",
       " (22, 13.641346153846154),\n",
       " (21, 13.494290375203915),\n",
       " (13, 13.484375),\n",
       " (16, 13.329138431752177),\n",
       " (11, 13.165289256198347),\n",
       " (17, 13.019064124783363),\n",
       " (19, 12.843059936908517),\n",
       " (2, 12.741486068111454),\n",
       " (15, 12.59046454767726),\n",
       " (0, 12.46979865771812),\n",
       " (10, 12.02247191011236),\n",
       " (1, 11.810771470160116),\n",
       " (14, 11.36687306501548),\n",
       " (8, 11.162666666666667),\n",
       " (23, 11.139691714836223),\n",
       " (7, 10.817813765182187),\n",
       " (12, 10.487179487179487),\n",
       " (9, 9.559036144578313)]"
      ]
     },
     "execution_count": 99,
     "metadata": {},
     "output_type": "execute_result"
    }
   ],
   "source": [
    "results = redResult.collect()\n",
    "\n",
    "results.sort(key = lambda key: key[1])\n",
    "results[::-1]"
   ]
  },
  {
   "cell_type": "code",
   "execution_count": null,
   "metadata": {},
   "outputs": [],
   "source": []
  }
 ],
 "metadata": {
  "kernelspec": {
   "display_name": "Python 3",
   "language": "python",
   "name": "python3"
  },
  "language_info": {
   "codemirror_mode": {
    "name": "ipython",
    "version": 3
   },
   "file_extension": ".py",
   "mimetype": "text/x-python",
   "name": "python",
   "nbconvert_exporter": "python",
   "pygments_lexer": "ipython3",
   "version": "3.7.8"
  }
 },
 "nbformat": 4,
 "nbformat_minor": 4
}
